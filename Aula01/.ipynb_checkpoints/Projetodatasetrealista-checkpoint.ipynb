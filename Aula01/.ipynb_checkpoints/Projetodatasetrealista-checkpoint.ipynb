{
 "cells": [
  {
   "cell_type": "markdown",
   "id": "8c362564-0ece-44d7-a595-7b30428a0055",
   "metadata": {},
   "source": [
    "# Bibliotecas"
   ]
  },
  {
   "cell_type": "code",
   "execution_count": 1,
   "id": "af80d7b7-7caa-423b-a8ab-fbad72ff96cd",
   "metadata": {},
   "outputs": [],
   "source": [
    "import pandas as pd\n",
    "import numpy as np\n",
    "from sklearn.preprocessing import StandardScaler"
   ]
  },
  {
   "cell_type": "markdown",
   "id": "c680b9f8-295e-4aea-b39d-f2d62807f4bc",
   "metadata": {},
   "source": [
    "# Importando Dataset"
   ]
  },
  {
   "cell_type": "code",
   "execution_count": 3,
   "id": "ed7f55a7-0df9-4388-89f5-0742b7164afc",
   "metadata": {},
   "outputs": [],
   "source": [
    "df = pd.read_csv(\"dataset_a1/dataset_feedback_realista.csv\")"
   ]
  },
  {
   "cell_type": "markdown",
   "id": "fb1e254f-610c-4f56-a2a3-d69e6ace016f",
   "metadata": {},
   "source": [
    "# Visualizando"
   ]
  },
  {
   "cell_type": "code",
   "execution_count": 4,
   "id": "7bba1731-fd91-4bea-848a-08e6df232a7e",
   "metadata": {},
   "outputs": [
    {
     "data": {
      "text/plain": [
       "['id', 'idade', 'renda', 'cidade', 'categoria', 'nota', 'feedback']"
      ]
     },
     "execution_count": 4,
     "metadata": {},
     "output_type": "execute_result"
    }
   ],
   "source": [
    "df.columns.tolist()"
   ]
  },
  {
   "cell_type": "code",
   "execution_count": 8,
   "id": "4ddd48d4-cd48-4eb1-9b4f-eb63454a8521",
   "metadata": {},
   "outputs": [
    {
     "name": "stdout",
     "output_type": "stream",
     "text": [
      "*** Vizão Geral ***\n",
      "\n",
      "<class 'pandas.core.frame.DataFrame'>\n",
      "RangeIndex: 100 entries, 0 to 99\n",
      "Data columns (total 7 columns):\n",
      " #   Column     Non-Null Count  Dtype  \n",
      "---  ------     --------------  -----  \n",
      " 0   id         100 non-null    int64  \n",
      " 1   idade      92 non-null     float64\n",
      " 2   renda      96 non-null     float64\n",
      " 3   cidade     96 non-null     object \n",
      " 4   categoria  100 non-null    object \n",
      " 5   nota       95 non-null     float64\n",
      " 6   feedback   100 non-null    object \n",
      "dtypes: float64(3), int64(1), object(3)\n",
      "memory usage: 5.6+ KB\n"
     ]
    }
   ],
   "source": [
    "print(\"*** Vizão Geral ***\\n\")\n",
    "df.info()"
   ]
  },
  {
   "cell_type": "code",
   "execution_count": 7,
   "id": "08dc2ef0-9d57-4985-8934-6abf667ae1ab",
   "metadata": {},
   "outputs": [
    {
     "name": "stdout",
     "output_type": "stream",
     "text": [
      "*** Primeiras linhas ***\n",
      "\n"
     ]
    },
    {
     "data": {
      "text/html": [
       "<div>\n",
       "<style scoped>\n",
       "    .dataframe tbody tr th:only-of-type {\n",
       "        vertical-align: middle;\n",
       "    }\n",
       "\n",
       "    .dataframe tbody tr th {\n",
       "        vertical-align: top;\n",
       "    }\n",
       "\n",
       "    .dataframe thead th {\n",
       "        text-align: right;\n",
       "    }\n",
       "</style>\n",
       "<table border=\"1\" class=\"dataframe\">\n",
       "  <thead>\n",
       "    <tr style=\"text-align: right;\">\n",
       "      <th></th>\n",
       "      <th>id</th>\n",
       "      <th>idade</th>\n",
       "      <th>renda</th>\n",
       "      <th>cidade</th>\n",
       "      <th>categoria</th>\n",
       "      <th>nota</th>\n",
       "      <th>feedback</th>\n",
       "    </tr>\n",
       "  </thead>\n",
       "  <tbody>\n",
       "    <tr>\n",
       "      <th>0</th>\n",
       "      <td>101</td>\n",
       "      <td>59.0</td>\n",
       "      <td>5703.13</td>\n",
       "      <td>Aracaju</td>\n",
       "      <td>A</td>\n",
       "      <td>5.8</td>\n",
       "      <td>Regular</td>\n",
       "    </tr>\n",
       "    <tr>\n",
       "      <th>1</th>\n",
       "      <td>102</td>\n",
       "      <td>60.0</td>\n",
       "      <td>4428.98</td>\n",
       "      <td>Goiania</td>\n",
       "      <td>B</td>\n",
       "      <td>1.5</td>\n",
       "      <td>Ruim</td>\n",
       "    </tr>\n",
       "    <tr>\n",
       "      <th>2</th>\n",
       "      <td>103</td>\n",
       "      <td>33.0</td>\n",
       "      <td>7537.78</td>\n",
       "      <td>Rio de Janeiro</td>\n",
       "      <td>A</td>\n",
       "      <td>7.1</td>\n",
       "      <td>Bom</td>\n",
       "    </tr>\n",
       "    <tr>\n",
       "      <th>3</th>\n",
       "      <td>104</td>\n",
       "      <td>38.0</td>\n",
       "      <td>13865.77</td>\n",
       "      <td>Campo Grande</td>\n",
       "      <td>B</td>\n",
       "      <td>1.1</td>\n",
       "      <td>Ruim</td>\n",
       "    </tr>\n",
       "    <tr>\n",
       "      <th>4</th>\n",
       "      <td>105</td>\n",
       "      <td>36.0</td>\n",
       "      <td>14794.37</td>\n",
       "      <td>Manaus</td>\n",
       "      <td>B</td>\n",
       "      <td>1.2</td>\n",
       "      <td>Ruim</td>\n",
       "    </tr>\n",
       "    <tr>\n",
       "      <th>5</th>\n",
       "      <td>106</td>\n",
       "      <td>16.0</td>\n",
       "      <td>8727.25</td>\n",
       "      <td>Curitiba</td>\n",
       "      <td>A</td>\n",
       "      <td>2.4</td>\n",
       "      <td>Ruim</td>\n",
       "    </tr>\n",
       "    <tr>\n",
       "      <th>6</th>\n",
       "      <td>107</td>\n",
       "      <td>NaN</td>\n",
       "      <td>13672.13</td>\n",
       "      <td>Curitiba</td>\n",
       "      <td>B</td>\n",
       "      <td>7.7</td>\n",
       "      <td>Regular</td>\n",
       "    </tr>\n",
       "    <tr>\n",
       "      <th>7</th>\n",
       "      <td>108</td>\n",
       "      <td>33.0</td>\n",
       "      <td>6322.93</td>\n",
       "      <td>Recife</td>\n",
       "      <td>B</td>\n",
       "      <td>3.9</td>\n",
       "      <td>Ruim</td>\n",
       "    </tr>\n",
       "    <tr>\n",
       "      <th>8</th>\n",
       "      <td>109</td>\n",
       "      <td>31.0</td>\n",
       "      <td>6917.85</td>\n",
       "      <td>Recife</td>\n",
       "      <td>B</td>\n",
       "      <td>4.0</td>\n",
       "      <td>Ruim</td>\n",
       "    </tr>\n",
       "    <tr>\n",
       "      <th>9</th>\n",
       "      <td>110</td>\n",
       "      <td>46.0</td>\n",
       "      <td>14776.13</td>\n",
       "      <td>Fortaleza</td>\n",
       "      <td>B</td>\n",
       "      <td>0.2</td>\n",
       "      <td>Ruim</td>\n",
       "    </tr>\n",
       "  </tbody>\n",
       "</table>\n",
       "</div>"
      ],
      "text/plain": [
       "    id  idade     renda          cidade categoria  nota feedback\n",
       "0  101   59.0   5703.13         Aracaju         A   5.8  Regular\n",
       "1  102   60.0   4428.98         Goiania         B   1.5     Ruim\n",
       "2  103   33.0   7537.78  Rio de Janeiro         A   7.1      Bom\n",
       "3  104   38.0  13865.77    Campo Grande         B   1.1     Ruim\n",
       "4  105   36.0  14794.37          Manaus         B   1.2     Ruim\n",
       "5  106   16.0   8727.25        Curitiba         A   2.4     Ruim\n",
       "6  107    NaN  13672.13        Curitiba         B   7.7  Regular\n",
       "7  108   33.0   6322.93          Recife         B   3.9     Ruim\n",
       "8  109   31.0   6917.85          Recife         B   4.0     Ruim\n",
       "9  110   46.0  14776.13       Fortaleza         B   0.2     Ruim"
      ]
     },
     "execution_count": 7,
     "metadata": {},
     "output_type": "execute_result"
    }
   ],
   "source": [
    "print(\"*** Primeiras linhas ***\\n\")\n",
    "df.head(10)"
   ]
  },
  {
   "cell_type": "code",
   "execution_count": 10,
   "id": "acb00500-500e-44da-8c13-59d5fb74552a",
   "metadata": {},
   "outputs": [
    {
     "name": "stdout",
     "output_type": "stream",
     "text": [
      "\n",
      "*** Descrição estatística ***\n",
      "\n",
      "               id      idade         renda       nota\n",
      "count  100.000000  92.000000     96.000000  95.000000\n",
      "mean   150.500000  42.076087   8124.414479   4.835789\n",
      "std     29.011492  14.947699   3978.123983   3.033989\n",
      "min    101.000000  16.000000   1569.880000   0.000000\n",
      "25%    125.750000  31.750000   5000.240000   1.800000\n",
      "50%    150.500000  40.000000   7838.960000   4.800000\n",
      "75%    175.250000  54.000000  11275.147500   7.250000\n",
      "max    200.000000  70.000000  15009.410000   9.900000\n"
     ]
    }
   ],
   "source": [
    "print(\"\\n*** Descrição estatística ***\\n\")\n",
    "print(df.describe())"
   ]
  },
  {
   "cell_type": "code",
   "execution_count": 11,
   "id": "db061734-8826-46f5-892f-f71573d262ab",
   "metadata": {},
   "outputs": [
    {
     "name": "stdout",
     "output_type": "stream",
     "text": [
      "                id      idade         renda    cidade categoria       nota  \\\n",
      "count   100.000000  92.000000     96.000000        96       100  95.000000   \n",
      "unique         NaN        NaN           NaN        20         2        NaN   \n",
      "top            NaN        NaN           NaN  Curitiba         B        NaN   \n",
      "freq           NaN        NaN           NaN        10        57        NaN   \n",
      "mean    150.500000  42.076087   8124.414479       NaN       NaN   4.835789   \n",
      "std      29.011492  14.947699   3978.123983       NaN       NaN   3.033989   \n",
      "min     101.000000  16.000000   1569.880000       NaN       NaN   0.000000   \n",
      "25%     125.750000  31.750000   5000.240000       NaN       NaN   1.800000   \n",
      "50%     150.500000  40.000000   7838.960000       NaN       NaN   4.800000   \n",
      "75%     175.250000  54.000000  11275.147500       NaN       NaN   7.250000   \n",
      "max     200.000000  70.000000  15009.410000       NaN       NaN   9.900000   \n",
      "\n",
      "       feedback  \n",
      "count       100  \n",
      "unique        3  \n",
      "top        Ruim  \n",
      "freq         45  \n",
      "mean        NaN  \n",
      "std         NaN  \n",
      "min         NaN  \n",
      "25%         NaN  \n",
      "50%         NaN  \n",
      "75%         NaN  \n",
      "max         NaN  \n"
     ]
    }
   ],
   "source": [
    "print(df.describe(include='all'))"
   ]
  },
  {
   "cell_type": "code",
   "execution_count": 12,
   "id": "07689e27-b02e-4a92-93eb-f617975685fb",
   "metadata": {},
   "outputs": [
    {
     "name": "stdout",
     "output_type": "stream",
     "text": [
      "\n",
      "*** Contagem de valores ausentes ***\n",
      "\n",
      "id           0\n",
      "idade        8\n",
      "renda        4\n",
      "cidade       4\n",
      "categoria    0\n",
      "nota         5\n",
      "feedback     0\n",
      "dtype: int64\n"
     ]
    }
   ],
   "source": [
    "print(\"\\n*** Contagem de valores ausentes ***\\n\")\n",
    "print(df.isnull().sum())"
   ]
  }
 ],
 "metadata": {
  "kernelspec": {
   "display_name": "Python ML (venv)",
   "language": "python",
   "name": "machine_learning"
  },
  "language_info": {
   "codemirror_mode": {
    "name": "ipython",
    "version": 3
   },
   "file_extension": ".py",
   "mimetype": "text/x-python",
   "name": "python",
   "nbconvert_exporter": "python",
   "pygments_lexer": "ipython3",
   "version": "3.10.5"
  }
 },
 "nbformat": 4,
 "nbformat_minor": 5
}
